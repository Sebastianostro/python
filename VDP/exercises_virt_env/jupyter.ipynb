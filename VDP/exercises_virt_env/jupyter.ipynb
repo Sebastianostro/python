{
 "cells": [
  {
   "cell_type": "markdown",
   "id": "c49bcb3b",
   "metadata": {},
   "source": [
    "## Allgemeine Vorarbeiten\n",
    "Zu Beginn werden Pakete in der virtuellen Umgebung installiert, die benötigt werden. Beispielsweise \"pandas\" über den Befehl \"%pip install pandas\". Anschließend werden in einer separaten Zelle die benötigten Pakete importiert."
   ]
  },
  {
   "cell_type": "code",
   "execution_count": null,
   "id": "868b3cc5",
   "metadata": {},
   "outputs": [],
   "source": [
    "# Install basic packages if not already installed\n",
    "%pip install pandas\n",
    "%pip install numpy\n",
    "%pip install matplotlib"
   ]
  },
  {
   "cell_type": "code",
   "execution_count": 2,
   "id": "75934cf6",
   "metadata": {},
   "outputs": [],
   "source": [
    "# Import necessary libraries\n",
    "import pandas as pd\n",
    "import numpy as np\n",
    "import matplotlib.pyplot as plt\n",
    "import math"
   ]
  },
  {
   "cell_type": "markdown",
   "id": "8040b14e",
   "metadata": {},
   "source": [
    "Zunächst werden alle allgemeinen Konstanten und Funktionen definiert."
   ]
  },
  {
   "cell_type": "code",
   "execution_count": 3,
   "id": "4ccfdcbb",
   "metadata": {},
   "outputs": [],
   "source": [
    "# Setting up some constants used also in the following functions\n",
    "# fine structure constant\n",
    "alpha = 1/137\n",
    "# Mass of the electron in MeV\n",
    "m_e = 0.511\n",
    "# Radius of the electron in 1/fm\n",
    "r_e = 1.44/m_e\n",
    "# Radius of the electron in cm\n",
    "r_e = r_e * 1e-13\n",
    "# Avogadro's number\n",
    "N_A = 6.022*10**23\n",
    "\n",
    "# Coulomb correction function for electron/positron\n",
    "def f_coul(Z):\n",
    "    a = Z/137\n",
    "    f = a**2*((1+a**2)**(-1)+0.20206-0.0369*a**2+0.0083*a**4-0.002*a**6)\n",
    "    return f\n",
    "\n",
    "# Separate helper function for the common factor of the Bethe-Bloch formula\n",
    "def bethe_bloch_common_factor():\n",
    "    # Calculate the common factor\n",
    "    K = 2 * np.pi * N_A * r_e**2 * m_e\n",
    "    return K\n",
    "\n",
    "# Bethe-Bloch formula for the energy loss\n",
    "def bethe_bloch(Z_det, A_det, rho_det, Z_projectile, beta_projectile, W_max, I_potential, density_correction, coulomb_correction):\n",
    "    # Calculate beta_gamma\n",
    "    beta_gamma = beta_projectile / np.sqrt(1 - beta_projectile**2)\n",
    "    # Calculate common factor\n",
    "    K = 2 * np.pi * N_A * r_e**2 * m_e\n",
    "    dE = K * Z_det / A_det * rho_det * Z_projectile**2 / beta_projectile**2 * (np.log(2 * m_e * beta_gamma**2 * W_max / I_potential**2) - 2 * beta_projectile**2 - density_correction - 2 * coulomb_correction/Z_det)\n",
    "    return dE\n",
    "\n",
    "# number of atoms in 1 cm^3\n",
    "def rho_to_N(rho, A):\n",
    "    # Calculate number of atoms per cm^3\n",
    "    N = rho * N_A / A\n",
    "    return N\n",
    "# Sollte 2,7*10^19 sein\n",
    "\n",
    "# Function for the radiative correction\n",
    "def phi_rad(Z, r_e, alpha, E0, m_e, shield_ind):\n",
    "    # Calculate common factor\n",
    "    cf = 4 * Z**2 * r_e**2 * alpha\n",
    "    # Calculate the radiative correction\n",
    "    if shield_ind == 0:\n",
    "        phi = cf * (np.log(2 * E0 / m_e) - 1/3 - f_coul(Z))\n",
    "    elif shield_ind == 1:\n",
    "        phi = cf * (np.log(183*Z**(-1/3)) + 1/18 - f_coul(Z))\n",
    "    return phi\n",
    "\n",
    "# Function for the energy loss\n",
    "def dE_dx(E0, Z, A, rho, r_e, alpha, m_e, shield_ind):\n",
    "    # Calculate the energy loss\n",
    "    dE = rho_to_N(rho, A) * E0 * phi_rad(Z, r_e, alpha, E0, m_e, shield_ind)\n",
    "    return dE\n",
    "\n",
    "# Approximation of the critical energy for electrons\n",
    "def E_crit_approx(Z):\n",
    "    # Calculate the critical energy using an approximation\n",
    "    E_crit = 800/(Z+1.2)\n",
    "    return E_crit\n",
    "\n",
    "# Simplified radiation length function\n",
    "def L_rad(Z, A):\n",
    "    # Calculate the radiation length\n",
    "    X0 = 716.4 * A / (Z*(Z+1) * np.log(287/np.sqrt(Z)))\n",
    "    return X0\n",
    "\n",
    "# Bethe-Heitler distribution function\n",
    "def bh_distribution(E, E0, Z, A, material_length):\n",
    "    # Calculate the length in terms of the radiation length\n",
    "    t = material_length / L_rad(Z, A)\n",
    "    # Calculate the relative energy\n",
    "    x = E / E0\n",
    "    # Calculate the distribution\n",
    "    dN = (-np.log(x))**(t/np.log(2)-1)/math.gamma(t/np.log(2))\n",
    "    return dN \n",
    "\n",
    "# Function to calculate the maximum energy loss (or energy transfer)\n",
    "def E_max(beta_gamma, gamma, m_e, M):\n",
    "    # Calculate the maximum energy transfer under the assumption of natural units\n",
    "    # where c = 1 and masses are in MeV/c^2\n",
    "    E_max = 2 * m_e * beta_gamma**2 / (1 + 2 * gamma * (m_e/M) + (m_e/M)**2)\n",
    "    return E_max"
   ]
  },
  {
   "cell_type": "markdown",
   "id": "e3f6615e",
   "metadata": {},
   "source": [
    "## Blatt 2\n",
    "Für die Aufgabenteile\n",
    "1. vollständige Abschirmung, d.h. `shield_ind = 1`\n",
    "2. keine Abschirmung, d.h. `shield_ind = 0`"
   ]
  },
  {
   "cell_type": "code",
   "execution_count": 5,
   "id": "3f03d787",
   "metadata": {},
   "outputs": [
    {
     "name": "stdout",
     "output_type": "stream",
     "text": [
      "Aufgabenteil a)  1.179e-01 MeV/cm\n",
      "Aufgabenteil b)  2.209e-01 MeV/cm\n"
     ]
    }
   ],
   "source": [
    "# Initial energy in MeV\n",
    "E0 = 1000\n",
    "Z = 21 # Atomic number of Scandium\n",
    "# Atomic mass of Scandium\n",
    "A = 43\n",
    "rho = 1.95*10**-3  # g/cm^3\n",
    "# Avogadro's number\n",
    "N_A = 6.022*10**23  # atoms/mol\n",
    "\n",
    "\n",
    "# Exercise part a) complete shielding\n",
    "print('Aufgabenteil a) ' \"%10.3e\"% dE_dx(E0, Z, A, rho, r_e, alpha, m_e, 1) + \" MeV/cm\")\n",
    "# Exercise part b) no shielding\n",
    "print('Aufgabenteil b) ' \"%10.3e\"% dE_dx(E0, Z, A, rho, r_e, alpha, m_e, 0) + \" MeV/cm\")"
   ]
  },
  {
   "cell_type": "markdown",
   "id": "ed6946df",
   "metadata": {},
   "source": [
    "Aufgabenteil c): Die Voraussetzung der Formel muss geprüft werden, d.h. $E_0 >> 137 m_c \\cdot c^2 \\cdot Z^{1/3}$."
   ]
  },
  {
   "cell_type": "code",
   "execution_count": 6,
   "id": "189c23b9",
   "metadata": {},
   "outputs": [
    {
     "name": "stdout",
     "output_type": "stream",
     "text": [
      "Aufgabenteil d) 36.0 MeV\n"
     ]
    }
   ],
   "source": [
    "print('Aufgabenteil d) ' \"%1.1f\"% E_crit_approx(Z) + ' MeV')"
   ]
  },
  {
   "cell_type": "markdown",
   "id": "5331aa81",
   "metadata": {},
   "source": [
    "Die kritisch Teilchenenergie ist die Energie, bei der der Energieverlust durch Strahlung gleich dem Energieverlust durch Streuung entspricht. Elektronen bzw. Myonen mit E = 1 GeV liegen somit immer oberhalb der kritischen Energie.\n",
    "Man müsste hier den WQ über die Abschätzung aus dem Hinweis nehmen und das Verhältnis von $E_c(e^-)/E_c(\\mu)$ betrachtet. Daraus folgert man dann $E_c(\\mu)\\approx 1,5$ TeV."
   ]
  },
  {
   "cell_type": "code",
   "execution_count": null,
   "id": "8d45ab7d",
   "metadata": {},
   "outputs": [
    {
     "name": "stdout",
     "output_type": "stream",
     "text": [
      "Aufgabenteil e) 0.017062 %\n",
      "Aufgabenteil f) 0.034198 %\n"
     ]
    }
   ],
   "source": [
    "Z = 14 # Atomic number of Silicon\n",
    "A = 28\n",
    "rho = 2.33*10**-3  # g/cm^3\n",
    "\n",
    "# number of slices\n",
    "n_slices = 6\n",
    "# width of the slices\n",
    "slice_width = 300 # in µm\n",
    "# number of slices in cm\n",
    "n_slices_cm = n_slices * slice_width * 1e-4\n",
    "# Initial energy in MeV\n",
    "E0 = 1000\n",
    "\n",
    "# X0 = Lrad/rho = 9,45 cm\n",
    "# t = DeltaX/X0 = 1,9%\n",
    "# --> in der e) sollte dann 3,9% rauskommen, bei der f) rund 8% aus t = 2*1,9%\n",
    "\n",
    "# Calculate the probability of a 50% energy loss after 6 slices\n",
    "print('Aufgabenteil e) ' \"%f\"% bh_distribution(E0/2, E0, Z, A, n_slices_cm) + ' %')\n",
    "# Calculate the probability of a 50% energy loss after 12 slices\n",
    "print('Aufgabenteil f) ' \"%f\"% bh_distribution(E0/2, E0, Z, A, 2*n_slices_cm) + ' %')"
   ]
  },
  {
   "cell_type": "markdown",
   "id": "5df906d8",
   "metadata": {},
   "source": [
    "Aufgabe 2 betrachtet Energieauflösungen, um die $K_\\alpha$-Linie $E_\\gamma\\approx 5.9$ keV mit einer Energieauflösung von $\\Delta E_{\\text{rel.}}<20\\%$ zu messen.\n",
    "a) Die deponierte Energie $E_\\gamma$ wird auf das Ionisationspotential bezogen, um die Anzahl der Elektronen/Löcher zu bestimmen, d.h. $N=\\frac{E_\\gamma}{I_{pot}}$ -> Vola bestimmen ($\\Delta E$) über Poisson-Statistik ($\\frac{1}{\\sqrt{N}}$) --> bspw. Si-HLD ergibt 146 eV --> 2,4%\n",
    "b) Gasdetektor ist hier wegen Zusammenspiel mit Energieauflösung vs. freie Wegstrecke zu bevorzugen."
   ]
  },
  {
   "cell_type": "code",
   "execution_count": 8,
   "id": "b9d42b0b",
   "metadata": {},
   "outputs": [
    {
     "data": {
      "text/plain": [
       "1638.888888888889"
      ]
     },
     "execution_count": 8,
     "metadata": {},
     "output_type": "execute_result"
    }
   ],
   "source": [
    "5900/3.6"
   ]
  },
  {
   "cell_type": "markdown",
   "id": "dde8526b",
   "metadata": {},
   "source": [
    "## Blatt 3\n",
    "### Aufgabe 1\n",
    "#### a)\n",
    "Der *Vavilov*-Parameter $\\kappa$ ist ein Maß für das Verhältnis (nicht das Verhältnis selbst!) von mittlerem Energieverlust zum maximalen Energieverlust, d.h.\n",
    "\\begin{equation}\n",
    "\\kappa = \\frac{\\xi}{T_{\\max}}\n",
    "\\end{equation}\n",
    "mit $\\xi = 2\\pi N_a r_e^2 m_e c^2 \\rho \\frac{Z}{A}(\\frac{z}{\\beta})^2 \\Delta x$.\n",
    "Für kleine Werte von $\\kappa$ geht die *Vavilov*-Verteilung in die *Landau*-Verteilung über.\n",
    "\n",
    "#### b)\n",
    "Der *Vavilov*-Parameter soll für minimal ionisierende Pionen in einem Si-Detektor der Dicke $\\Delta x=900\\,\\mu m$ mit einer Geschwindigkeit von $\\beta \\approx 0,97, \\beta\\gamma = 4$ bestimmt werden, um zu entscheiden, ob die *Vavilov*-Verteilung mit der *Landau*-Verteilung genähert werden darf."
   ]
  },
  {
   "cell_type": "code",
   "execution_count": null,
   "id": "4f16579b",
   "metadata": {},
   "outputs": [
    {
     "name": "stdout",
     "output_type": "stream",
     "text": [
      "Maximale Energie 15.9 MeV\n",
      "Vavilov Faktor:  1.0778853207711233e-06 . Der Faktor nahe 0 legt nahe, dass die Energieverlustverteilung eine Landauverteilung ist.\n"
     ]
    }
   ],
   "source": [
    "# Parameter\n",
    "beta = 0.97\n",
    "beta_gamma = 4\n",
    "gamma = 1 / math.sqrt(1 - beta**2)\n",
    "detector_thickness = 900 # in µm\n",
    "# Convert to cm\n",
    "detector_thickness_cm = detector_thickness * 1e-4\n",
    "# Mass of the particle (here pion) in MeV/c^2\n",
    "M_pion = 139.57\n",
    "# Charge of the particle (here pion), which is equal to the atomic number of the particle\n",
    "q_pion = 1\n",
    "# Information about the detector\n",
    "# Atomic number of Silicon\n",
    "Z_det = 14\n",
    "# Atomic mass of Silicon\n",
    "A_det = 28\n",
    "# Density of Silicon\n",
    "rho_det = 2.33*10**-3  # g/cm^3\n",
    "\n",
    "# Calculate xi\n",
    "xi = bethe_bloch_common_factor() * Z_det / A_det * rho_det * q_pion**2 / beta**2 * detector_thickness_cm\n",
    "# maximum energy loss\n",
    "E_max_pion = E_max(beta_gamma, gamma, m_e, M_pion)\n",
    "print('Maximale Energie ' \"%1.1f\"% E_max_pion + ' MeV')\n",
    "# Vavilov factor\n",
    "kappa = xi/E_max_pion\n",
    "print('Vavilov Faktor: ', kappa, '. Der Faktor nahe 0 legt nahe, dass die Energieverlustverteilung eine Landauverteilung ist.')\n",
    "\n",
    "# Der Wert sollte so um die 1,046*10^(-3) liegen..."
   ]
  },
  {
   "cell_type": "markdown",
   "id": "40ce2a55",
   "metadata": {},
   "source": [
    "### Aufgabe 2\n",
    "#### a)\n",
    "Die mittlere freie Weglänge $\\lambda=\\frac{1}{\\mu}=\\frac{1}{n\\sigma}$ mit $\\sigma$ dem Streuquerschnitt und $n=\\rho\\frac{N_a}{A}$ der Teilchendichte kann für ein bekanntes Material (hier Argon, Z=18) bestimmt werden, wenn man die Energy der Photonen kennt. Für die $^{55}Fe$-$K_{\\alpha}$-Linie mit einer Energie $E_{\\gamma}=5{,}9\\,$ keV kann aus Messreihen (z.B. unter https://physics.nist.gov/PhysRefData/XrayMassCoef/ElemTab/z18.html) der normierte Absorptionskoeffizient $\\frac{\\mu_{en}}{\\rho}$ bestimmt werden.\n",
    "5,9\\,keV entsprechen rund $6\\cdot 10^{-3}\\,$ MeV, woraus sich ein normierter Absorptionskoeffizient von $\\frac{\\mu_{en}}{\\rho}=2{,}449\\cdot 10^2\\,cm^2/g$ ergibt."
   ]
  },
  {
   "cell_type": "code",
   "execution_count": 5,
   "id": "29538653",
   "metadata": {},
   "outputs": [
    {
     "name": "stdout",
     "output_type": "stream",
     "text": [
      "Effektive Querschnittsfläche: 3.3e-20 cm^2\n",
      "Absorptionskoeffizient: 0.892000 cm^-1\n",
      "Mittlere freie Weglänge: 1.1 cm\n"
     ]
    }
   ],
   "source": [
    "# Energy in keV\n",
    "E = 5.9\n",
    "# Energy in MeV\n",
    "E_MeV = E * 1e-3\n",
    "# Atomic mass of Argon\n",
    "A_Ar = 40\n",
    "# effective cross section in cm^2\n",
    "sigma = 5*10**2 * A_Ar/N_A\n",
    "# Calculate the effective cross section in barns\n",
    "sigma_barns = sigma / 1e-24\n",
    "print('Effektive Querschnittsfläche: ' \"%1.1e\"% sigma + ' cm^2')\n",
    "# density of Argon\n",
    "rho_Ar = 1.784*10**-3  # g/cm^3\n",
    "# absorption coefficient\n",
    "mu = rho_Ar * N_A/A_Ar * sigma\n",
    "print('Absorptionskoeffizient: ' \"%1.6f\"% mu + ' cm^-1')\n",
    "# Calculate the mean free path\n",
    "lambda_mfp = 1/mu\n",
    "print('Mittlere freie Weglänge: ' \"%1.1f\"% lambda_mfp + ' cm')"
   ]
  },
  {
   "cell_type": "markdown",
   "id": "20c831a9",
   "metadata": {},
   "source": [
    "#### b)\n",
    "Ein Gas mit einer geringeren freien Weglänge als 2,3 cm ist gesucht. Dichtere Gase würden hier helfen. Xenon sollte genommen werden."
   ]
  },
  {
   "cell_type": "code",
   "execution_count": 6,
   "id": "244fac87",
   "metadata": {},
   "outputs": [
    {
     "name": "stdout",
     "output_type": "stream",
     "text": [
      "Effektive Querschnittsfläche: 1.1e-19 cm^2\n",
      "Absorptionskoeffizient: 1.474650 cm^-1\n",
      "Mittlere freie Weglänge: 0.7 cm\n"
     ]
    }
   ],
   "source": [
    "# Atomic mass of Xenon\n",
    "A_Xe = 131\n",
    "# effective cross section in cm^2\n",
    "sigma = 5.085*10**2 * A_Xe/N_A\n",
    "# Calculate the effective cross section in barns\n",
    "print('Effektive Querschnittsfläche: ' \"%1.1e\"% sigma + ' cm^2')\n",
    "# density of Xenon\n",
    "rho_Xe = 2.9*10**-3  # g/cm^3\n",
    "# absorption coefficient\n",
    "mu = rho_Xe * N_A/A_Xe * sigma\n",
    "print('Absorptionskoeffizient: ' \"%1.6f\"% mu + ' cm^-1')\n",
    "# Calculate the mean free path\n",
    "lambda_mfp = 1/mu\n",
    "print('Mittlere freie Weglänge: ' \"%1.1f\"% lambda_mfp + ' cm')"
   ]
  },
  {
   "cell_type": "code",
   "execution_count": null,
   "id": "545febf9",
   "metadata": {},
   "outputs": [],
   "source": []
  }
 ],
 "metadata": {
  "kernelspec": {
   "display_name": "exercises_virt_env",
   "language": "python",
   "name": "python3"
  },
  "language_info": {
   "codemirror_mode": {
    "name": "ipython",
    "version": 3
   },
   "file_extension": ".py",
   "mimetype": "text/x-python",
   "name": "python",
   "nbconvert_exporter": "python",
   "pygments_lexer": "ipython3",
   "version": "3.12.3"
  }
 },
 "nbformat": 4,
 "nbformat_minor": 5
}
