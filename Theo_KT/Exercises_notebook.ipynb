{
 "cells": [
  {
   "cell_type": "markdown",
   "id": "c5ddd54a-112a-49c9-8a7a-b5a7345ea828",
   "metadata": {},
   "source": [
    "# MIT bag model\n",
    "This setup is based on Exercise sheet 7 of the KT II course and will be used for other parts as well. The structure of relevant files is as follows:\n",
    "1. Exercises_notebook.ipynb (Jupyter Notebook: Hauptbericht, Plots, Auswertung)\n",
    "2. bagmodel.py (Logik: M(R), Minimierung, EM-Term etc.)\n",
    "3. constants.py (Quarkmassen, x, B, alpha_c, Z0)\n",
    "4. hadron_data.json (optional, Liste von Hadronen mit n, ns, S, I, M_exp)"
   ]
  },
  {
   "cell_type": "markdown",
   "id": "495606de",
   "metadata": {},
   "source": [
    "## Technical prerequisites\n",
    "Install the necessary modules to run the code, especially numpy, scipy, matplotlib"
   ]
  },
  {
   "cell_type": "code",
   "execution_count": 2,
   "id": "2ddbb030",
   "metadata": {},
   "outputs": [
    {
     "name": "stdout",
     "output_type": "stream",
     "text": [
      "\u001b[33mWARNING: Skipping /home/sebastian/dev/python/VDP/exercises_virt_env/lib/python3.12/site-packages/requests-2.32.3.dist-info due to invalid metadata entry 'name'\u001b[0m\u001b[33m\n",
      "\u001b[0m\u001b[33mWARNING: Skipping /home/sebastian/dev/python/VDP/exercises_virt_env/lib/python3.12/site-packages/urllib3-2.4.0.dist-info due to invalid metadata entry 'name'\u001b[0m\u001b[33m\n",
      "\u001b[0m\u001b[33mWARNING: Skipping /home/sebastian/dev/python/VDP/exercises_virt_env/lib/python3.12/site-packages/idna-3.10.dist-info due to invalid metadata entry 'name'\u001b[0m\u001b[33m\n",
      "\u001b[0m\u001b[33mWARNING: Skipping /home/sebastian/dev/python/VDP/exercises_virt_env/lib/python3.12/site-packages/certifi-2025.4.26.dist-info due to invalid metadata entry 'name'\u001b[0m\u001b[33m\n",
      "\u001b[0m\u001b[33mWARNING: Skipping /home/sebastian/dev/python/VDP/exercises_virt_env/lib/python3.12/site-packages/charset_normalizer-3.4.2.dist-info due to invalid metadata entry 'name'\u001b[0m\u001b[33m\n",
      "\u001b[0m\u001b[33mWARNING: Skipping /home/sebastian/dev/python/VDP/exercises_virt_env/lib/python3.12/site-packages/requests-2.32.3.dist-info due to invalid metadata entry 'name'\u001b[0m\u001b[33m\n",
      "\u001b[0m\u001b[33mWARNING: Skipping /home/sebastian/dev/python/VDP/exercises_virt_env/lib/python3.12/site-packages/urllib3-2.4.0.dist-info due to invalid metadata entry 'name'\u001b[0m\u001b[33m\n",
      "\u001b[0m\u001b[33mWARNING: Skipping /home/sebastian/dev/python/VDP/exercises_virt_env/lib/python3.12/site-packages/idna-3.10.dist-info due to invalid metadata entry 'name'\u001b[0m\u001b[33m\n",
      "\u001b[0m\u001b[33mWARNING: Skipping /home/sebastian/dev/python/VDP/exercises_virt_env/lib/python3.12/site-packages/certifi-2025.4.26.dist-info due to invalid metadata entry 'name'\u001b[0m\u001b[33m\n",
      "\u001b[0m\u001b[33mWARNING: Skipping /home/sebastian/dev/python/VDP/exercises_virt_env/lib/python3.12/site-packages/charset_normalizer-3.4.2.dist-info due to invalid metadata entry 'name'\u001b[0m\u001b[33m\n",
      "\u001b[0mRequirement already satisfied: numpy in /home/sebastian/dev/python/VDP/exercises_virt_env/lib/python3.12/site-packages (2.2.6)\n",
      "\u001b[31mERROR: Could not find a version that satisfies the requirement as (from versions: none)\u001b[0m\u001b[31m\n",
      "\u001b[0m\u001b[31mERROR: No matching distribution found for as\u001b[0m\u001b[31m\n",
      "\u001b[0mNote: you may need to restart the kernel to use updated packages.\n",
      "\u001b[33mWARNING: Skipping /home/sebastian/dev/python/VDP/exercises_virt_env/lib/python3.12/site-packages/requests-2.32.3.dist-info due to invalid metadata entry 'name'\u001b[0m\u001b[33m\n",
      "\u001b[0m\u001b[33mWARNING: Skipping /home/sebastian/dev/python/VDP/exercises_virt_env/lib/python3.12/site-packages/urllib3-2.4.0.dist-info due to invalid metadata entry 'name'\u001b[0m\u001b[33m\n",
      "\u001b[0m\u001b[33mWARNING: Skipping /home/sebastian/dev/python/VDP/exercises_virt_env/lib/python3.12/site-packages/idna-3.10.dist-info due to invalid metadata entry 'name'\u001b[0m\u001b[33m\n",
      "\u001b[0m\u001b[33mWARNING: Skipping /home/sebastian/dev/python/VDP/exercises_virt_env/lib/python3.12/site-packages/certifi-2025.4.26.dist-info due to invalid metadata entry 'name'\u001b[0m\u001b[33m\n",
      "\u001b[0m\u001b[33mWARNING: Skipping /home/sebastian/dev/python/VDP/exercises_virt_env/lib/python3.12/site-packages/charset_normalizer-3.4.2.dist-info due to invalid metadata entry 'name'\u001b[0m\u001b[33m\n",
      "\u001b[0m\u001b[33mWARNING: Skipping /home/sebastian/dev/python/VDP/exercises_virt_env/lib/python3.12/site-packages/requests-2.32.3.dist-info due to invalid metadata entry 'name'\u001b[0m\u001b[33m\n",
      "\u001b[0m\u001b[33mWARNING: Skipping /home/sebastian/dev/python/VDP/exercises_virt_env/lib/python3.12/site-packages/urllib3-2.4.0.dist-info due to invalid metadata entry 'name'\u001b[0m\u001b[33m\n",
      "\u001b[0m\u001b[33mWARNING: Skipping /home/sebastian/dev/python/VDP/exercises_virt_env/lib/python3.12/site-packages/idna-3.10.dist-info due to invalid metadata entry 'name'\u001b[0m\u001b[33m\n",
      "\u001b[0m\u001b[33mWARNING: Skipping /home/sebastian/dev/python/VDP/exercises_virt_env/lib/python3.12/site-packages/certifi-2025.4.26.dist-info due to invalid metadata entry 'name'\u001b[0m\u001b[33m\n",
      "\u001b[0m\u001b[33mWARNING: Skipping /home/sebastian/dev/python/VDP/exercises_virt_env/lib/python3.12/site-packages/charset_normalizer-3.4.2.dist-info due to invalid metadata entry 'name'\u001b[0m\u001b[33m\n",
      "\u001b[0mCollecting scipy\n",
      "  Downloading scipy-1.15.3-cp312-cp312-manylinux_2_17_x86_64.manylinux2014_x86_64.whl.metadata (61 kB)\n",
      "\u001b[2K     \u001b[90m━━━━━━━━━━━━━━━━━━━━━━━━━━━━━━━━━━━━━━━━\u001b[0m \u001b[32m62.0/62.0 kB\u001b[0m \u001b[31m1.3 MB/s\u001b[0m eta \u001b[36m0:00:00\u001b[0m00:01\u001b[0m\n",
      "\u001b[?25h\u001b[31mERROR: Ignored the following versions that require a different python version: 1.10.0 Requires-Python <3.12,>=3.8; 1.10.0rc1 Requires-Python <3.12,>=3.8; 1.10.0rc2 Requires-Python <3.12,>=3.8; 1.10.1 Requires-Python <3.12,>=3.8; 1.6.2 Requires-Python >=3.7,<3.10; 1.6.3 Requires-Python >=3.7,<3.10; 1.7.0 Requires-Python >=3.7,<3.10; 1.7.1 Requires-Python >=3.7,<3.10; 1.7.2 Requires-Python >=3.7,<3.11; 1.7.3 Requires-Python >=3.7,<3.11; 1.8.0 Requires-Python >=3.8,<3.11; 1.8.0rc1 Requires-Python >=3.8,<3.11; 1.8.0rc2 Requires-Python >=3.8,<3.11; 1.8.0rc3 Requires-Python >=3.8,<3.11; 1.8.0rc4 Requires-Python >=3.8,<3.11; 1.8.1 Requires-Python >=3.8,<3.11; 1.9.0 Requires-Python >=3.8,<3.12; 1.9.0rc1 Requires-Python >=3.8,<3.12; 1.9.0rc2 Requires-Python >=3.8,<3.12; 1.9.0rc3 Requires-Python >=3.8,<3.12; 1.9.1 Requires-Python >=3.8,<3.12\u001b[0m\u001b[31m\n",
      "\u001b[0m\u001b[31mERROR: Could not find a version that satisfies the requirement as (from versions: none)\u001b[0m\u001b[31m\n",
      "\u001b[0m\u001b[31mERROR: No matching distribution found for as\u001b[0m\u001b[31m\n",
      "\u001b[0mNote: you may need to restart the kernel to use updated packages.\n",
      "\u001b[33mWARNING: Skipping /home/sebastian/dev/python/VDP/exercises_virt_env/lib/python3.12/site-packages/requests-2.32.3.dist-info due to invalid metadata entry 'name'\u001b[0m\u001b[33m\n",
      "\u001b[0m\u001b[33mWARNING: Skipping /home/sebastian/dev/python/VDP/exercises_virt_env/lib/python3.12/site-packages/urllib3-2.4.0.dist-info due to invalid metadata entry 'name'\u001b[0m\u001b[33m\n",
      "\u001b[0m\u001b[33mWARNING: Skipping /home/sebastian/dev/python/VDP/exercises_virt_env/lib/python3.12/site-packages/idna-3.10.dist-info due to invalid metadata entry 'name'\u001b[0m\u001b[33m\n",
      "\u001b[0m\u001b[33mWARNING: Skipping /home/sebastian/dev/python/VDP/exercises_virt_env/lib/python3.12/site-packages/certifi-2025.4.26.dist-info due to invalid metadata entry 'name'\u001b[0m\u001b[33m\n",
      "\u001b[0m\u001b[33mWARNING: Skipping /home/sebastian/dev/python/VDP/exercises_virt_env/lib/python3.12/site-packages/charset_normalizer-3.4.2.dist-info due to invalid metadata entry 'name'\u001b[0m\u001b[33m\n",
      "\u001b[0m\u001b[33mWARNING: Skipping /home/sebastian/dev/python/VDP/exercises_virt_env/lib/python3.12/site-packages/requests-2.32.3.dist-info due to invalid metadata entry 'name'\u001b[0m\u001b[33m\n",
      "\u001b[0m\u001b[33mWARNING: Skipping /home/sebastian/dev/python/VDP/exercises_virt_env/lib/python3.12/site-packages/urllib3-2.4.0.dist-info due to invalid metadata entry 'name'\u001b[0m\u001b[33m\n",
      "\u001b[0m\u001b[33mWARNING: Skipping /home/sebastian/dev/python/VDP/exercises_virt_env/lib/python3.12/site-packages/idna-3.10.dist-info due to invalid metadata entry 'name'\u001b[0m\u001b[33m\n",
      "\u001b[0m\u001b[33mWARNING: Skipping /home/sebastian/dev/python/VDP/exercises_virt_env/lib/python3.12/site-packages/certifi-2025.4.26.dist-info due to invalid metadata entry 'name'\u001b[0m\u001b[33m\n",
      "\u001b[0m\u001b[33mWARNING: Skipping /home/sebastian/dev/python/VDP/exercises_virt_env/lib/python3.12/site-packages/charset_normalizer-3.4.2.dist-info due to invalid metadata entry 'name'\u001b[0m\u001b[33m\n",
      "\u001b[0mRequirement already satisfied: matplotlib in /home/sebastian/dev/python/VDP/exercises_virt_env/lib/python3.12/site-packages (3.10.3)\n",
      "\u001b[31mERROR: Could not find a version that satisfies the requirement as (from versions: none)\u001b[0m\u001b[31m\n",
      "\u001b[0m\u001b[31mERROR: No matching distribution found for as\u001b[0m\u001b[31m\n",
      "\u001b[0mNote: you may need to restart the kernel to use updated packages.\n"
     ]
    }
   ],
   "source": [
    "# Install modules\n",
    "%pip install numpy as np\n",
    "%pip install scipy as sp\n",
    "%pip install matplotlib as plt"
   ]
  },
  {
   "cell_type": "code",
   "execution_count": null,
   "id": "ae3fae60",
   "metadata": {},
   "outputs": [
    {
     "ename": "ModuleNotFoundError",
     "evalue": "No module named 'scipy'",
     "output_type": "error",
     "traceback": [
      "\u001b[31m---------------------------------------------------------------------------\u001b[39m",
      "\u001b[31mModuleNotFoundError\u001b[39m                       Traceback (most recent call last)",
      "\u001b[36mCell\u001b[39m\u001b[36m \u001b[39m\u001b[32mIn[4]\u001b[39m\u001b[32m, line 1\u001b[39m\n\u001b[32m----> \u001b[39m\u001b[32m1\u001b[39m \u001b[38;5;28;01mfrom\u001b[39;00m\u001b[38;5;250m \u001b[39m\u001b[34;01mbagmodel\u001b[39;00m\u001b[38;5;250m \u001b[39m\u001b[38;5;28;01mimport\u001b[39;00m minimize_mass\n\u001b[32m      2\u001b[39m \u001b[38;5;28;01mimport\u001b[39;00m\u001b[38;5;250m \u001b[39m\u001b[34;01mmatplotlib\u001b[39;00m\u001b[34;01m.\u001b[39;00m\u001b[34;01mpyplot\u001b[39;00m\u001b[38;5;250m \u001b[39m\u001b[38;5;28;01mas\u001b[39;00m\u001b[38;5;250m \u001b[39m\u001b[34;01mplt\u001b[39;00m\n\u001b[32m      4\u001b[39m \u001b[38;5;66;03m# Beispiel: Proton (uud), also n=3, ns=0, S=1/2, I=1/2\u001b[39;00m\n",
      "\u001b[36mFile \u001b[39m\u001b[32m~/dev/python/Theo_KT/bagmodel.py:5\u001b[39m\n\u001b[32m      3\u001b[39m \u001b[38;5;28;01mimport\u001b[39;00m\u001b[38;5;250m \u001b[39m\u001b[34;01mnumpy\u001b[39;00m\u001b[38;5;250m \u001b[39m\u001b[38;5;28;01mas\u001b[39;00m\u001b[38;5;250m \u001b[39m\u001b[34;01mnp\u001b[39;00m\n\u001b[32m      4\u001b[39m \u001b[38;5;28;01mfrom\u001b[39;00m\u001b[38;5;250m \u001b[39m\u001b[34;01mconstants\u001b[39;00m\u001b[38;5;250m \u001b[39m\u001b[38;5;28;01mimport\u001b[39;00m B, Z0, alpha_c, x, m_light, m_strange\n\u001b[32m----> \u001b[39m\u001b[32m5\u001b[39m \u001b[38;5;28;01mimport\u001b[39;00m\u001b[38;5;250m \u001b[39m\u001b[34;01mscipy\u001b[39;00m\u001b[38;5;250m \u001b[39m\u001b[38;5;28;01mas\u001b[39;00m\u001b[38;5;250m \u001b[39m\u001b[34;01msc\u001b[39;00m\n\u001b[32m      6\u001b[39m \u001b[38;5;66;03m#from scipy.optimize import minimize_scalar\u001b[39;00m\n\u001b[32m      8\u001b[39m \u001b[38;5;28;01mdef\u001b[39;00m\u001b[38;5;250m \u001b[39m\u001b[34menergy_terms\u001b[39m(R, n, ns, m=m_light, ms=m_strange, S=\u001b[32m0\u001b[39m, I=\u001b[32m0\u001b[39m):\n",
      "\u001b[31mModuleNotFoundError\u001b[39m: No module named 'scipy'"
     ]
    }
   ],
   "source": [
    "import bagmodel as bm\n",
    "import matplotlib.pyplot as plt\n",
    "\n",
    "# Beispiel: Proton (uud), also n=3, ns=0, S=1/2, I=1/2\n",
    "R_p, M_p = bm.minimize_mass(n=3, ns=0, S=0.5, I=0.5)\n",
    "print(f\"Proton: R = {R_p:.3f} fm, M = {M_p:.3f} GeV\")\n"
   ]
  },
  {
   "cell_type": "markdown",
   "id": "62c700b1",
   "metadata": {},
   "source": [
    "Next will be plotting M(R)"
   ]
  },
  {
   "cell_type": "code",
   "execution_count": null,
   "id": "333045c6",
   "metadata": {},
   "outputs": [],
   "source": [
    "import numpy as np\n",
    "from bagmodel import energy_terms\n",
    "\n",
    "R_vals = np.linspace(0.5, 2.0, 300)\n",
    "M_vals = [energy_terms(R, 3, 0, S=0.5, I=0.5) for R in R_vals]\n",
    "\n",
    "plt.plot(R_vals, M_vals)\n",
    "plt.xlabel(\"Bag-Radius R [fm]\")\n",
    "plt.ylabel(\"Masse M(R) [GeV]\")\n",
    "plt.title(\"Proton im MIT-Bag-Modell\")\n",
    "plt.grid(True)\n",
    "plt.show()\n"
   ]
  }
 ],
 "metadata": {
  "kernelspec": {
   "display_name": "exercises_virt_env",
   "language": "python",
   "name": "python3"
  },
  "language_info": {
   "codemirror_mode": {
    "name": "ipython",
    "version": 3
   },
   "file_extension": ".py",
   "mimetype": "text/x-python",
   "name": "python",
   "nbconvert_exporter": "python",
   "pygments_lexer": "ipython3",
   "version": "3.12.3"
  }
 },
 "nbformat": 4,
 "nbformat_minor": 5
}
