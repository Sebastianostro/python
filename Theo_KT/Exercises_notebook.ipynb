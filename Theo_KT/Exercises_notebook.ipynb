{
 "cells": [
  {
   "cell_type": "markdown",
   "id": "c5ddd54a-112a-49c9-8a7a-b5a7345ea828",
   "metadata": {},
   "source": [
    "This is a first test for KT. The notebook has been set up using the Jupyter environment in the browser."
   ]
  }
 ],
 "metadata": {
  "kernelspec": {
   "display_name": "exercises_virt_env",
   "language": "python",
   "name": "python3"
  },
  "language_info": {
   "codemirror_mode": {
    "name": "ipython",
    "version": 3
   },
   "file_extension": ".py",
   "mimetype": "text/x-python",
   "name": "python",
   "nbconvert_exporter": "python",
   "pygments_lexer": "ipython3",
   "version": "3.12.3"
  }
 },
 "nbformat": 4,
 "nbformat_minor": 5
}
