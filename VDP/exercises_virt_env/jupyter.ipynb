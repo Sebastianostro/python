{
 "cells": [
  {
   "cell_type": "markdown",
   "id": "c49bcb3b",
   "metadata": {},
   "source": [
    "## Allgemeine Vorarbeiten\n",
    "Zu Beginn werden Pakete in der virtuellen Umgebung installiert, die benötigt werden. Beispielsweise \"pandas\" über den Befehl \"%pip install pandas\". Anschließend werden in einer separaten Zelle die benötigten Module importiert."
   ]
  },
  {
   "cell_type": "code",
   "execution_count": null,
   "id": "868b3cc5",
   "metadata": {},
   "outputs": [],
   "source": [
    "# Install basic packages if not already installed\n",
    "%pip install pandas\n",
    "%pip install numpy\n",
    "%pip install matplotlib"
   ]
  },
  {
   "cell_type": "code",
   "execution_count": 24,
   "id": "75934cf6",
   "metadata": {},
   "outputs": [
    {
     "data": {
      "text/plain": [
       "<module 'VDP_functions' from '/home/sebastian/dev/python/VDP/exercises_virt_env/../VDP_functions.py'>"
      ]
     },
     "execution_count": 24,
     "metadata": {},
     "output_type": "execute_result"
    }
   ],
   "source": [
    "# Import necessary modules\n",
    "import importlib\n",
    "import math\n",
    "import matplotlib.pyplot as plt\n",
    "import sys\n",
    "# go up one directory to import local modules as VDP_functions and VDP_constants are not in the same directory as the notebook\n",
    "sys.path.append('../')  \n",
    "# VDP_functions contains all the functions used throughout the notebook\n",
    "import VDP_functions as vdp\n",
    "# VDP_constants contains all the constants used throughout the notebook\n",
    "import VDP_constants as vdp_const\n",
    "importlib.reload(vdp)"
   ]
  },
  {
   "cell_type": "markdown",
   "id": "e3f6615e",
   "metadata": {},
   "source": [
    "## Blatt 2\n",
    "Für die Aufgabenteile\n",
    "1. vollständige Abschirmung, d.h. `shield_ind = 1`\n",
    "2. keine Abschirmung, d.h. `shield_ind = 0`"
   ]
  },
  {
   "cell_type": "code",
   "execution_count": 18,
   "id": "3f03d787",
   "metadata": {},
   "outputs": [
    {
     "name": "stdout",
     "output_type": "stream",
     "text": [
      "Aufgabenteil a) 0.118 MeV/cm\n",
      "Aufgabenteil b) 0.221 MeV/cm\n"
     ]
    }
   ],
   "source": [
    "# Initial energy in MeV\n",
    "E0 = 1000\n",
    "Z = 21 # Atomic number of Scandium\n",
    "# Atomic mass of Scandium\n",
    "A = 43\n",
    "rho = 1.95*10**-3  # g/cm^3\n",
    "\n",
    "# Exercise part a) complete shielding\n",
    "print('Aufgabenteil a) ' \"%1.3f\"% vdp.dE_dx(E0, Z, A, rho, 1) + \" MeV/cm\")\n",
    "# Exercise part b) no shielding\n",
    "print('Aufgabenteil b) ' \"%1.3f\"% vdp.dE_dx(E0, Z, A, rho, 0) + \" MeV/cm\")"
   ]
  },
  {
   "cell_type": "markdown",
   "id": "ed6946df",
   "metadata": {},
   "source": [
    "Aufgabenteil c): Die Voraussetzung der Formel muss geprüft werden, d.h. $E_0 >> 137\\cdot m_e \\cdot c^2 \\cdot Z^{1/3}$."
   ]
  },
  {
   "cell_type": "code",
   "execution_count": 25,
   "id": "189c23b9",
   "metadata": {},
   "outputs": [
    {
     "name": "stdout",
     "output_type": "stream",
     "text": [
      "Für Aufgabenteil c) ergibt sich ein Prüfwert von 0.01 MeV\n",
      "Aufgabenteil d) 36.0 MeV\n"
     ]
    }
   ],
   "source": [
    "print('Für Aufgabenteil c) ergibt sich ein Prüfwert von ' \"%1.2f\"% vdp.check_phi_rad(Z) + ' MeV')\n",
    "print('Aufgabenteil d) ' \"%1.1f\"% vdp.E_crit_approx(Z) + ' MeV')"
   ]
  },
  {
   "cell_type": "markdown",
   "id": "5331aa81",
   "metadata": {},
   "source": [
    "Die kritisch Teilchenenergie ist die Energie, bei der der Energieverlust durch Strahlung gleich dem Energieverlust durch Streuung entspricht. Elektronen bzw. Myonen mit E = 1 GeV liegen somit immer oberhalb der kritischen Energie.\n",
    "Man müsste hier den WQ über die Abschätzung aus dem Hinweis nehmen und das Verhältnis von $E_c(e^-)/E_c(\\mu)$ betrachtet. Daraus folgert man dann $E_c(\\mu)\\approx 1,5$ TeV."
   ]
  },
  {
   "cell_type": "code",
   "execution_count": 7,
   "id": "8d45ab7d",
   "metadata": {},
   "outputs": [
    {
     "name": "stdout",
     "output_type": "stream",
     "text": [
      "Aufgabenteil e) 0.017062 %\n",
      "Aufgabenteil f) 0.034198 %\n"
     ]
    }
   ],
   "source": [
    "Z = 14 # Atomic number of Silicon\n",
    "A = 28\n",
    "rho = 2.33*10**-3  # g/cm^3\n",
    "\n",
    "# number of slices\n",
    "n_slices = 6\n",
    "# width of the slices\n",
    "slice_width = 300 # in µm\n",
    "# number of slices in cm\n",
    "n_slices_cm = n_slices * slice_width * 1e-4\n",
    "# Initial energy in MeV\n",
    "E0 = 1000\n",
    "\n",
    "# X0 = Lrad/rho = 9,45 cm\n",
    "# t = DeltaX/X0 = 1,9%\n",
    "# --> in der e) sollte dann 3,9% rauskommen, bei der f) rund 8% aus t = 2*1,9%\n",
    "\n",
    "# Calculate the probability of a 50% energy loss after 6 slices\n",
    "print('Aufgabenteil e) ' \"%f\"% vdp.bh_distribution(E0/2, E0, Z, A, n_slices_cm) + ' %')\n",
    "# Calculate the probability of a 50% energy loss after 12 slices\n",
    "print('Aufgabenteil f) ' \"%f\"% vdp.bh_distribution(E0/2, E0, Z, A, 2*n_slices_cm) + ' %')"
   ]
  },
  {
   "cell_type": "markdown",
   "id": "5df906d8",
   "metadata": {},
   "source": [
    "Aufgabe 2 betrachtet Energieauflösungen, um die $K_\\alpha$-Linie $E_\\gamma\\approx 5.9$ keV mit einer Energieauflösung von $\\Delta E_{\\text{rel.}}<20\\%$ zu messen.\n",
    "a) Die deponierte Energie $E_\\gamma$ wird auf das Ionisationspotential bezogen, um die Anzahl der Elektronen/Löcher zu bestimmen, d.h. $N=\\frac{E_\\gamma}{I_{pot}}$ -> Vola bestimmen ($\\Delta E$) über Poisson-Statistik ($\\frac{1}{\\sqrt{N}}$) --> bspw. Si-HLD ergibt 146 eV --> 2,4%\n",
    "b) Gasdetektor ist hier wegen Zusammenspiel mit Energieauflösung vs. freie Wegstrecke zu bevorzugen."
   ]
  },
  {
   "cell_type": "code",
   "execution_count": 8,
   "id": "b9d42b0b",
   "metadata": {},
   "outputs": [
    {
     "data": {
      "text/plain": [
       "1638.888888888889"
      ]
     },
     "execution_count": 8,
     "metadata": {},
     "output_type": "execute_result"
    }
   ],
   "source": [
    "5900/3.6"
   ]
  },
  {
   "cell_type": "markdown",
   "id": "dde8526b",
   "metadata": {},
   "source": [
    "## Blatt 3\n",
    "### Aufgabe 1\n",
    "#### a)\n",
    "Der *Vavilov*-Parameter $\\kappa$ ist ein Maß für das Verhältnis (nicht das Verhältnis selbst!) von mittlerem Energieverlust zum maximalen Energieverlust, d.h.\n",
    "\\begin{equation}\n",
    "\\kappa = \\frac{\\xi}{T_{\\max}}\n",
    "\\end{equation}\n",
    "mit $\\xi = 2\\pi N_a r_e^2 m_e c^2 \\rho \\frac{Z}{A}(\\frac{z}{\\beta})^2 \\Delta x$.\n",
    "Für kleine Werte von $\\kappa$ geht die *Vavilov*-Verteilung in die *Landau*-Verteilung über.\n",
    "\n",
    "#### b)\n",
    "Der *Vavilov*-Parameter soll für minimal ionisierende Pionen in einem Si-Detektor der Dicke $\\Delta x=900\\,\\mu m$ mit einer Geschwindigkeit von $\\beta \\approx 0,97, \\beta\\gamma = 4$ bestimmt werden, um zu entscheiden, ob die *Vavilov*-Verteilung mit der *Landau*-Verteilung genähert werden darf."
   ]
  },
  {
   "cell_type": "code",
   "execution_count": null,
   "id": "4f16579b",
   "metadata": {},
   "outputs": [
    {
     "name": "stdout",
     "output_type": "stream",
     "text": [
      "Maximale Energie 15.9 MeV\n",
      "Vavilov Faktor:  1.0778853207711233e-06 . Der Faktor nahe 0 legt nahe, dass die Energieverlustverteilung eine Landauverteilung ist.\n"
     ]
    }
   ],
   "source": [
    "# Parameter\n",
    "beta = 0.97\n",
    "beta_gamma = 4\n",
    "gamma = 1 / math.sqrt(1 - beta**2)\n",
    "detector_thickness = 900 # in µm\n",
    "# Convert to cm\n",
    "detector_thickness_cm = detector_thickness * 1e-4\n",
    "# Mass of the particle (here pion) in MeV/c^2\n",
    "M_pion = 139.57\n",
    "# Charge of the particle (here pion), which is equal to the atomic number of the particle\n",
    "q_pion = 1\n",
    "# Information about the detector\n",
    "# Atomic number of Silicon\n",
    "Z_det = 14\n",
    "# Atomic mass of Silicon\n",
    "A_det = 28\n",
    "# Density of Silicon\n",
    "rho_det = 2.33*10**-3  # g/cm^3\n",
    "\n",
    "# Calculate xi\n",
    "xi = vdp.bethe_bloch_common_factor() * Z_det / A_det * rho_det * q_pion**2 / beta**2 * detector_thickness_cm\n",
    "# maximum energy loss\n",
    "E_max_pion = vdp.E_max(beta_gamma, gamma, M_pion)\n",
    "print('Maximale Energie ' \"%1.1f\"% E_max_pion + ' MeV')\n",
    "# Vavilov factor\n",
    "kappa = xi/E_max_pion\n",
    "print('Vavilov Faktor: ', kappa, '. Der Faktor nahe 0 legt nahe, dass die Energieverlustverteilung eine Landauverteilung ist.')\n",
    "\n",
    "# Der Wert sollte so um die 1,046*10^(-3) liegen..."
   ]
  },
  {
   "cell_type": "markdown",
   "id": "40ce2a55",
   "metadata": {},
   "source": [
    "### Aufgabe 2\n",
    "#### a)\n",
    "Die mittlere freie Weglänge $\\lambda=\\frac{1}{\\mu}=\\frac{1}{n\\sigma}$ mit $\\sigma$ dem Streuquerschnitt und $n=\\rho\\frac{N_a}{A}$ der Teilchendichte kann für ein bekanntes Material (hier Argon, Z=18) bestimmt werden, wenn man die Energy der Photonen kennt. Für die $^{55}Fe$-$K_{\\alpha}$-Linie mit einer Energie $E_{\\gamma}=5{,}9\\,$ keV kann aus Messreihen (z.B. unter https://physics.nist.gov/PhysRefData/XrayMassCoef/ElemTab/z18.html) der normierte Absorptionskoeffizient $\\frac{\\mu_{en}}{\\rho}$ bestimmt werden.\n",
    "5,9\\,keV entsprechen rund $6\\cdot 10^{-3}\\,$ MeV, woraus sich ein normierter Absorptionskoeffizient von $\\frac{\\mu_{en}}{\\rho}=2{,}449\\cdot 10^2\\,cm^2/g$ ergibt."
   ]
  },
  {
   "cell_type": "code",
   "execution_count": 15,
   "id": "29538653",
   "metadata": {},
   "outputs": [
    {
     "name": "stdout",
     "output_type": "stream",
     "text": [
      "Effektive Querschnittsfläche: 3.3e-20 cm^2\n",
      "Absorptionskoeffizient: 0.892000 cm^-1\n",
      "Mittlere freie Weglänge: 1.1 cm\n"
     ]
    }
   ],
   "source": [
    "# Energy in keV\n",
    "E = 5.9\n",
    "# Energy in MeV\n",
    "E_MeV = E * 1e-3\n",
    "# Atomic mass of Argon\n",
    "A_Ar = 40\n",
    "# effective cross section in cm^2\n",
    "sigma = 5*10**2 * A_Ar / vdp_const.N_A\n",
    "# Calculate the effective cross section in barns\n",
    "sigma_barns = sigma / 1e-24\n",
    "print('Effektive Querschnittsfläche: ' \"%1.1e\"% sigma + ' cm^2')\n",
    "# density of Argon\n",
    "rho_Ar = 1.784*10**-3  # g/cm^3\n",
    "# absorption coefficient\n",
    "mu = rho_Ar * vdp_const.N_A / A_Ar * sigma\n",
    "print('Absorptionskoeffizient: ' \"%1.6f\"% mu + ' cm^-1')\n",
    "# Calculate the mean free path\n",
    "lambda_mfp = 1/mu\n",
    "print('Mittlere freie Weglänge: ' \"%1.1f\"% lambda_mfp + ' cm')"
   ]
  },
  {
   "cell_type": "markdown",
   "id": "20c831a9",
   "metadata": {},
   "source": [
    "#### b)\n",
    "Ein Gas mit einer geringeren freien Weglänge als 2,3 cm ist gesucht. Dichtere Gase würden hier helfen. Xenon sollte genommen werden."
   ]
  },
  {
   "cell_type": "code",
   "execution_count": 16,
   "id": "244fac87",
   "metadata": {},
   "outputs": [
    {
     "name": "stdout",
     "output_type": "stream",
     "text": [
      "Effektive Querschnittsfläche: 1.1e-19 cm^2\n",
      "Absorptionskoeffizient: 1.474650 cm^-1\n",
      "Mittlere freie Weglänge: 0.7 cm\n"
     ]
    }
   ],
   "source": [
    "# Atomic mass of Xenon\n",
    "A_Xe = 131\n",
    "# effective cross section in cm^2\n",
    "sigma = 5.085*10**2 * A_Xe / vdp_const.N_A\n",
    "# Calculate the effective cross section in barns\n",
    "print('Effektive Querschnittsfläche: ' \"%1.1e\"% sigma + ' cm^2')\n",
    "# density of Xenon\n",
    "rho_Xe = 2.9*10**-3  # g/cm^3\n",
    "# absorption coefficient\n",
    "mu = rho_Xe * vdp_const.N_A / A_Xe * sigma\n",
    "print('Absorptionskoeffizient: ' \"%1.6f\"% mu + ' cm^-1')\n",
    "# Calculate the mean free path\n",
    "lambda_mfp = 1/mu\n",
    "print('Mittlere freie Weglänge: ' \"%1.1f\"% lambda_mfp + ' cm')"
   ]
  },
  {
   "cell_type": "code",
   "execution_count": null,
   "id": "545febf9",
   "metadata": {},
   "outputs": [],
   "source": []
  }
 ],
 "metadata": {
  "kernelspec": {
   "display_name": "exercises_virt_env",
   "language": "python",
   "name": "python3"
  },
  "language_info": {
   "codemirror_mode": {
    "name": "ipython",
    "version": 3
   },
   "file_extension": ".py",
   "mimetype": "text/x-python",
   "name": "python",
   "nbconvert_exporter": "python",
   "pygments_lexer": "ipython3",
   "version": "3.12.3"
  }
 },
 "nbformat": 4,
 "nbformat_minor": 5
}
