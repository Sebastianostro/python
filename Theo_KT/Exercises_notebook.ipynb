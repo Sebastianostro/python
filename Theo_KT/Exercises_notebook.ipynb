{
 "cells": [
  {
   "cell_type": "markdown",
   "id": "c5ddd54a-112a-49c9-8a7a-b5a7345ea828",
   "metadata": {},
   "source": [
    "# MIT bag model\n",
    "This setup is based on Exercise sheet 7 of the KT II course and will be used for other parts as well. The structure of relevant files is as follows:\n",
    "1. Exercises_notebook.ipynb (Jupyter Notebook: Hauptbericht, Plots, Auswertung)\n",
    "2. bagmodel.py (Logik: M(R), Minimierung, EM-Term etc.)\n",
    "3. constants.py (Quarkmassen, x, B, alpha_c, Z0)\n",
    "4. hadron_data.json (optional, Liste von Hadronen mit n, ns, S, I, M_exp)"
   ]
  },
  {
   "cell_type": "markdown",
   "id": "495606de",
   "metadata": {},
   "source": [
    "## Technical prerequisites\n",
    "Install the necessary modules to run the code, especially numpy, scipy, matplotlib"
   ]
  },
  {
   "cell_type": "code",
   "execution_count": null,
   "id": "2ddbb030",
   "metadata": {},
   "outputs": [],
   "source": [
    "# Install modules\n",
    "%pip install numpy as np\n",
    "%pip install scipy as sp\n",
    "%pip install matplotlib as plt"
   ]
  },
  {
   "cell_type": "code",
   "execution_count": null,
   "id": "ae3fae60",
   "metadata": {},
   "outputs": [],
   "source": [
    "import sys\n",
    "# go up one directory to import local modules as VDP_functions and VDP_constants are not in the same directory as the notebook\n",
    "sys.path.append('../')  \n",
    "import bagmodel as bm\n",
    "#importlib.reload(bm)\n",
    "import matplotlib.pyplot as plt\n",
    "\n",
    "# Beispiel: Proton (uud), also n=3, ns=0, S=1/2, I=1/2\n",
    "R_p, M_p = bm.minimize_mass(n=3, ns=0, S=0.5, I=0.5)\n",
    "print(f\"Proton: R = {R_p:.3f} fm, M = {M_p:.3f} GeV\")\n"
   ]
  },
  {
   "cell_type": "markdown",
   "id": "62c700b1",
   "metadata": {},
   "source": [
    "Next will be plotting M(R)"
   ]
  },
  {
   "cell_type": "code",
   "execution_count": null,
   "id": "333045c6",
   "metadata": {},
   "outputs": [],
   "source": [
    "import numpy as np\n",
    "from bagmodel import energy_terms\n",
    "\n",
    "R_vals = np.linspace(0.5, 2.0, 300)\n",
    "M_vals = [energy_terms(R, 3, 0, S=0.5, I=0.5) for R in R_vals]\n",
    "\n",
    "plt.plot(R_vals, M_vals)\n",
    "plt.xlabel(\"Bag-Radius R [fm]\")\n",
    "plt.ylabel(\"Masse M(R) [GeV]\")\n",
    "plt.title(\"Proton im MIT-Bag-Modell\")\n",
    "plt.grid(True)\n",
    "plt.show()\n"
   ]
  }
 ],
 "metadata": {
  "kernelspec": {
   "display_name": "exercises_virt_env",
   "language": "python",
   "name": "python3"
  },
  "language_info": {
   "codemirror_mode": {
    "name": "ipython",
    "version": 3
   },
   "file_extension": ".py",
   "mimetype": "text/x-python",
   "name": "python",
   "nbconvert_exporter": "python",
   "pygments_lexer": "ipython3",
   "version": "3.12.3"
  }
 },
 "nbformat": 4,
 "nbformat_minor": 5
}
