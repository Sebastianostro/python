{
 "cells": [
  {
   "cell_type": "markdown",
   "id": "c49bcb3b",
   "metadata": {},
   "source": [
    "## Sheet 2\n",
    "Zu Beginn werden Pakete in der virtuellen Umgebung installiert, die benötigt werden. Beispielsweise \"pandas\" über den Befehl \"%pip install pandas\". Anschließend werden benötigte Pakete importiert. Hier nur mal beispielsweise ein paar Pakete."
   ]
  },
  {
   "cell_type": "code",
   "execution_count": 1,
   "id": "868b3cc5",
   "metadata": {},
   "outputs": [
    {
     "name": "stdout",
     "output_type": "stream",
     "text": [
      "/usr/bin/python3: No module named pip\n",
      "Note: you may need to restart the kernel to use updated packages.\n",
      "/usr/bin/python3: No module named pip\n",
      "Note: you may need to restart the kernel to use updated packages.\n"
     ]
    },
    {
     "ename": "ModuleNotFoundError",
     "evalue": "No module named 'pandas'",
     "output_type": "error",
     "traceback": [
      "\u001b[0;31m---------------------------------------------------------------------------\u001b[0m",
      "\u001b[0;31mModuleNotFoundError\u001b[0m                       Traceback (most recent call last)",
      "Cell \u001b[0;32mIn[1], line 5\u001b[0m\n\u001b[1;32m      3\u001b[0m get_ipython()\u001b[38;5;241m.\u001b[39mrun_line_magic(\u001b[38;5;124m'\u001b[39m\u001b[38;5;124mpip\u001b[39m\u001b[38;5;124m'\u001b[39m, \u001b[38;5;124m'\u001b[39m\u001b[38;5;124minstall matplotlib\u001b[39m\u001b[38;5;124m'\u001b[39m)\n\u001b[1;32m      4\u001b[0m \u001b[38;5;66;03m# Import necessary libraries\u001b[39;00m\n\u001b[0;32m----> 5\u001b[0m \u001b[38;5;28;01mimport\u001b[39;00m \u001b[38;5;21;01mpandas\u001b[39;00m \u001b[38;5;28;01mas\u001b[39;00m \u001b[38;5;21;01mpd\u001b[39;00m\n\u001b[1;32m      6\u001b[0m \u001b[38;5;28;01mimport\u001b[39;00m \u001b[38;5;21;01mnumpy\u001b[39;00m \u001b[38;5;28;01mas\u001b[39;00m \u001b[38;5;21;01mnp\u001b[39;00m\n\u001b[1;32m      7\u001b[0m \u001b[38;5;28;01mimport\u001b[39;00m \u001b[38;5;21;01mmatplotlib\u001b[39;00m\u001b[38;5;21;01m.\u001b[39;00m\u001b[38;5;21;01mpyplot\u001b[39;00m \u001b[38;5;28;01mas\u001b[39;00m \u001b[38;5;21;01mplt\u001b[39;00m\n",
      "\u001b[0;31mModuleNotFoundError\u001b[0m: No module named 'pandas'"
     ]
    }
   ],
   "source": [
    "# Install pandas if not already installed\n",
    "%pip install pandas\n",
    "%pip install matplotlib\n",
    "# Import necessary libraries\n",
    "import pandas as pd\n",
    "import numpy as np\n",
    "import matplotlib.pyplot as plt\n",
    "import math"
   ]
  },
  {
   "cell_type": "markdown",
   "id": "8040b14e",
   "metadata": {},
   "source": [
    "Zunächst werden alle allgemeinen Konstanten und Funktionen definiert."
   ]
  },
  {
   "cell_type": "code",
   "execution_count": 11,
   "id": "4ccfdcbb",
   "metadata": {},
   "outputs": [],
   "source": [
    "# Setting up some constants\n",
    "# fine structure constant\n",
    "alpha = 1/137\n",
    "# Mass of the electron in MeV\n",
    "m_e = 0.511\n",
    "# Radius of the electron in 1/fm\n",
    "r_e = 1.44/m_e\n",
    "# Radius of the electron in cm\n",
    "r_e = r_e * 1e-13\n",
    "# Avogadro's number\n",
    "N_A = 6.022*10**23\n",
    "\n",
    "# Coulomb correction function for electron/positron\n",
    "def f_coul(Z):\n",
    "    a = Z/137\n",
    "    f = a**2*((1+a**2)**(-1)+0.20206-0.0369*a**2+0.0083*a**4-0.002*a**6)\n",
    "    return f\n",
    "\n",
    "# number of atoms in 1 cm^3\n",
    "def rho_to_N(rho, A):\n",
    "    # Calculate number of atoms per cm^3\n",
    "    N = rho * N_A / A\n",
    "    return N\n",
    "# Sollte 2,7*10^19 sein\n",
    "\n",
    "# Function for the radiative correction\n",
    "def phi_rad(Z, r_e, alpha, E0, m_e, shield_ind):\n",
    "    # Calculate common factor\n",
    "    cf = 4 * Z**2 * r_e**2 * alpha\n",
    "    # Calculate the radiative correction\n",
    "    if shield_ind == 0:\n",
    "        phi = cf * (np.log(2 * E0 / m_e) - 1/3 - f_coul(Z))\n",
    "    elif shield_ind == 1:\n",
    "        phi = cf * (np.log(183*Z**(-1/3)) + 1/18 - f_coul(Z))\n",
    "    return phi\n",
    "\n",
    "# Function for the energy loss\n",
    "def dE_dx(E0, Z, A, rho, r_e, alpha, m_e, shield_ind):\n",
    "    # Calculate the energy loss\n",
    "    dE = rho_to_N(rho, A) * E0 * phi_rad(Z, r_e, alpha, E0, m_e, shield_ind)\n",
    "    return dE\n",
    "\n",
    "# Approximation of the critical energy for electrons\n",
    "def E_crit_approx(Z):\n",
    "    # Calculate the critical energy using an approximation\n",
    "    E_crit = 800/(Z+1.2)\n",
    "    return E_crit\n",
    "\n",
    "# Simplified radiation length function\n",
    "def L_rad(Z, A):\n",
    "    # Calculate the radiation length\n",
    "    X0 = 716.4 * A / (Z*(Z+1) * np.log(287/np.sqrt(Z)))\n",
    "    return X0\n",
    "\n",
    "# Bethe-Heitler distribution function\n",
    "def bh_distribution(E, E0, Z, A, material_length):\n",
    "    # Calculate the length in terms of the radiation length\n",
    "    t = material_length / L_rad(Z, A)\n",
    "    # Calculate the relative energy\n",
    "    x = E / E0\n",
    "    # Calculate the distribution\n",
    "    dN = -np.log(x)**(t/np.log(2)-1)/math.gamma(t/np.log(2))\n",
    "    return dN "
   ]
  },
  {
   "cell_type": "markdown",
   "id": "e3f6615e",
   "metadata": {},
   "source": [
    "Für die Aufgabenteile\n",
    "1. vollständige Abschirmung, d.h. `shield_ind = 1`\n",
    "2. keine Abschirmung, d.h. `shield_ind = 0`"
   ]
  },
  {
   "cell_type": "code",
   "execution_count": 10,
   "id": "3f03d787",
   "metadata": {},
   "outputs": [
    {
     "name": "stdout",
     "output_type": "stream",
     "text": [
      "Aufgabenteil a)  1.179e-01 MeV/cm\n",
      "Aufgabenteil b)  2.209e-01 MeV/cm\n"
     ]
    }
   ],
   "source": [
    "# Initial energy in MeV\n",
    "E0 = 1000\n",
    "Z = 21 # Atomic number of Scandium\n",
    "# Atomic mass of Scandium\n",
    "A = 43\n",
    "rho = 1.95*10**-3  # g/cm^3\n",
    "# Avogadro's number\n",
    "N_A = 6.022*10**23  # atoms/mol\n",
    "\n",
    "\n",
    "# Exercise part a) complete shielding\n",
    "print('Aufgabenteil a) ' \"%10.3e\"% dE_dx(E0, Z, A, rho, r_e, alpha, m_e, 1) + \" MeV/cm\")\n",
    "# Exercise part b) no shielding\n",
    "print('Aufgabenteil b) ' \"%10.3e\"% dE_dx(E0, Z, A, rho, r_e, alpha, m_e, 0) + \" MeV/cm\")"
   ]
  },
  {
   "cell_type": "markdown",
   "id": "ed6946df",
   "metadata": {},
   "source": [
    "Aufgabenteil c): Die Voraussetzung der Formel muss geprüft werden, d.h. $E_0 >> 137 m_c \\cdot c^2 \\cdot Z^{1/3}$."
   ]
  },
  {
   "cell_type": "code",
   "execution_count": 23,
   "id": "189c23b9",
   "metadata": {},
   "outputs": [
    {
     "name": "stdout",
     "output_type": "stream",
     "text": [
      "Aufgabenteil d) 36.0 MeV\n"
     ]
    }
   ],
   "source": [
    "print('Aufgabenteil d) ' \"%1.1f\"% E_crit_approx(Z) + ' MeV')"
   ]
  },
  {
   "cell_type": "markdown",
   "id": "5331aa81",
   "metadata": {},
   "source": [
    "Die kritisch Teilchenenergie ist die Energie, bei der der Energieverlust durch Strahlung gleich dem Energieverlust durch Streuung entspricht. Elektronen bzw. Myonen mit E = 1 GeV liegen somit immer oberhalb der kritischen Energie.\n",
    "Man müsste hier den WQ über die Abschätzung aus dem Hinweis nehmen und das Verhältnis von $E_c(e^-)/E_c(\\mu)$ betrachtet. Daraus folgert man dann $E_c(\\mu)\\approx 1,5$ TeV."
   ]
  },
  {
   "cell_type": "code",
   "execution_count": 30,
   "id": "8d45ab7d",
   "metadata": {},
   "outputs": [
    {
     "name": "stdout",
     "output_type": "stream",
     "text": [
      "Aufgabenteil e) 3.748092 %\n",
      "Aufgabenteil f) 3.056652 %\n"
     ]
    }
   ],
   "source": [
    "Z = 14 # Atomic number of Silicon\n",
    "A = 28\n",
    "rho = 2.33*10**-3  # g/cm^3\n",
    "\n",
    "# number of slices\n",
    "n_slices = 6\n",
    "# width of the slices\n",
    "slice_width = 300 # in µm\n",
    "# number of slices in cm\n",
    "n_slices_cm = n_slices * slice_width * 1e-4\n",
    "# Initial energy in MeV\n",
    "E0 = 1000\n",
    "\n",
    "# Calculate the probability of a 50% energy loss after 6 slices\n",
    "print('Aufgabenteil e) ' \"%f\"% bh_distribution(E0/2, E0, Z, A, n_slices_cm) + ' %')\n",
    "# Calculate the probability of a 50% energy loss after 12 slices\n",
    "print('Aufgabenteil f) ' \"%f\"% bh_distribution(E0/2, E0, Z, A, 2*n_slices_cm) + ' %')"
   ]
  },
  {
   "cell_type": "markdown",
   "id": "5df906d8",
   "metadata": {},
   "source": [
    "Aufgabe 2 betrachtet Energieauflösungen, um die $K_\\alpha$-Linie $E_\\gamma\\approx 5.9$ keV mit einer Energieauflösung von $\\Delta E_{\\text{rel.}}<20\\%$ zu messen."
   ]
  },
  {
   "cell_type": "code",
   "execution_count": null,
   "id": "dc5a8e6d",
   "metadata": {},
   "outputs": [],
   "source": []
  }
 ],
 "metadata": {
  "kernelspec": {
   "display_name": "exercises_virt_env_kernel",
   "language": "python",
   "name": "exercises_virt_env_kernel"
  },
  "language_info": {
   "codemirror_mode": {
    "name": "ipython",
    "version": 3
   },
   "file_extension": ".py",
   "mimetype": "text/x-python",
   "name": "python",
   "nbconvert_exporter": "python",
   "pygments_lexer": "ipython3",
   "version": "3.12.3"
  }
 },
 "nbformat": 4,
 "nbformat_minor": 5
}
