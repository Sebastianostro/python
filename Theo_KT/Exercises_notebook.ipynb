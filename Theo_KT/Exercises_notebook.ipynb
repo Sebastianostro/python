{
 "cells": [
  {
   "cell_type": "markdown",
   "id": "c5ddd54a-112a-49c9-8a7a-b5a7345ea828",
   "metadata": {},
   "source": [
    "# MIT bag model\n",
    "This setup is based on Exercise sheet 7 of the KT II course and will be used for other parts as well. The structure of relevant files is as follows:\n",
    "Exercises_notebook.ipynb                 # Jupyter Notebook: Hauptbericht, Plots, Auswertung\n",
    "├── bagmodel.py                   # Logik: M(R), Minimierung, EM-Term etc.\n",
    "├── constants.py                  # Quarkmassen, x, B, alpha_c, Z0, ...\n",
    "└── hadron_data.json (optional)  # Liste von Hadronen mit n, ns, S, I, M_exp"
   ]
  },
  {
   "cell_type": "code",
   "execution_count": null,
   "id": "ae3fae60",
   "metadata": {},
   "outputs": [],
   "source": [
    "from bagmodel import minimize_mass\n",
    "import matplotlib.pyplot as plt\n",
    "\n",
    "# Beispiel: Proton (uud), also n=3, ns=0, S=1/2, I=1/2\n",
    "R_p, M_p = minimize_mass(n=3, ns=0, S=0.5, I=0.5)\n",
    "print(f\"Proton: R = {R_p:.3f} fm, M = {M_p:.3f} GeV\")\n"
   ]
  },
  {
   "cell_type": "markdown",
   "id": "62c700b1",
   "metadata": {},
   "source": [
    "Next will be plotting M(R)"
   ]
  },
  {
   "cell_type": "code",
   "execution_count": null,
   "id": "333045c6",
   "metadata": {},
   "outputs": [],
   "source": [
    "import numpy as np\n",
    "from bagmodel import energy_terms\n",
    "\n",
    "R_vals = np.linspace(0.5, 2.0, 300)\n",
    "M_vals = [energy_terms(R, 3, 0, S=0.5, I=0.5) for R in R_vals]\n",
    "\n",
    "plt.plot(R_vals, M_vals)\n",
    "plt.xlabel(\"Bag-Radius R [fm]\")\n",
    "plt.ylabel(\"Masse M(R) [GeV]\")\n",
    "plt.title(\"Proton im MIT-Bag-Modell\")\n",
    "plt.grid(True)\n",
    "plt.show()\n"
   ]
  }
 ],
 "metadata": {
  "kernelspec": {
   "display_name": "exercises_virt_env",
   "language": "python",
   "name": "python3"
  },
  "language_info": {
   "codemirror_mode": {
    "name": "ipython",
    "version": 3
   },
   "file_extension": ".py",
   "mimetype": "text/x-python",
   "name": "python",
   "nbconvert_exporter": "python",
   "pygments_lexer": "ipython3",
   "version": "3.12.3"
  }
 },
 "nbformat": 4,
 "nbformat_minor": 5
}
