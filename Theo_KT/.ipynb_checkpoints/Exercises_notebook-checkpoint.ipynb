{
 "cells": [
  {
   "cell_type": "code",
   "execution_count": null,
   "id": "c5ddd54a-112a-49c9-8a7a-b5a7345ea828",
   "metadata": {},
   "outputs": [],
   "source": [
    "First test"
   ]
  }
 ],
 "metadata": {
  "kernelspec": {
   "display_name": "VDP_exercises_kernel",
   "language": "python",
   "name": "vdp_exercises_kernel"
  },
  "language_info": {
   "codemirror_mode": {
    "name": "ipython",
    "version": 3
   },
   "file_extension": ".py",
   "mimetype": "text/x-python",
   "name": "python",
   "nbconvert_exporter": "python",
   "pygments_lexer": "ipython3",
   "version": "3.12.3"
  }
 },
 "nbformat": 4,
 "nbformat_minor": 5
}
